{
 "cells": [
  {
   "cell_type": "markdown",
   "id": "a2f74688",
   "metadata": {},
   "source": [
    "# DESCRIPCIÓN SISTEMA LÁSER REMOTO\n",
    "\n",
    "\n",
    "\n"
   ]
  },
  {
   "cell_type": "markdown",
   "id": "8a336e34",
   "metadata": {},
   "source": [
    "- Canal emisor: compuesto por un láser de estado sólido y un emisor\n",
    "- Canal receptor: telescopio de apertura a determinar\n",
    "\n",
    "Vamos a simular primero la cadena de bombeo de Laser Raman, es decir, la ruta que va desde el laser de emisión hasta la muestra y que incluye los conectores, los switches, la fibra óptica y la lente de focalización."
   ]
  },
  {
   "cell_type": "markdown",
   "id": "e083211e",
   "metadata": {},
   "source": [
    "### Datos del láser\n"
   ]
  },
  {
   "cell_type": "code",
   "execution_count": 29,
   "id": "5e928e66",
   "metadata": {},
   "outputs": [],
   "source": [
    "## Datos Láser\n",
    "# Energia por pulso\n",
    "E_pulso = 20;       # mJ \n",
    "# Ancho de pulso\n",
    "tau_pulso = 10;    # ns\n",
    "# Frecuencia de repetición del láser\n",
    "frp = 20;               \n",
    "# Número de pulsos emitidos\n",
    "num_pulsos = 20; \n",
    "\n",
    "theta_L = 3;          # mrad\n",
    "lambda_L = 532;  # nm\n",
    "# Diametro del haz de salida, típico de una varilla Nd YAG doblada\n",
    "diam_haz = 3;      # mm\n",
    "\n",
    "Pot_Promedio = E_pulso * frp;\n",
    "# Eficiencia de conversión de las especificaciones de Monocrom, caso genérico\n",
    "eff_conversion = 0.05;"
   ]
  },
  {
   "cell_type": "code",
   "execution_count": 30,
   "id": "e450d858",
   "metadata": {},
   "outputs": [],
   "source": [
    "# Potencia eléctrica\n",
    "Pot_electrica = Pot_Promedio / eff_conversion;    #mW\n",
    "Pot_electrica = Pot_electrica * 1e-3;    #W"
   ]
  },
  {
   "cell_type": "code",
   "execution_count": 31,
   "id": "9c45cb4f",
   "metadata": {},
   "outputs": [],
   "source": [
    "# Tiempo que dura la emisión del láser para tener el tren de pulsos requerido\n",
    "tau_emitiendo = num_pulsos / frp;"
   ]
  },
  {
   "cell_type": "markdown",
   "id": "7093b7fd",
   "metadata": {},
   "source": [
    "### Datos de propagación"
   ]
  },
  {
   "cell_type": "code",
   "execution_count": 32,
   "id": "21cafacb",
   "metadata": {},
   "outputs": [],
   "source": [
    "# Distancia a la que está el blanco\n",
    "alcance = 1;    # km\n",
    "# Atenuación atmosférica, día despejado. Depende de las condiciones atmosféricas (pagina 316 de CCD Arrays, Cameras and Displays de Holst)\n",
    "sigma_atten = 0.4;     # km^-1\n",
    "# Diametro del haz de la muestra\n",
    "diam_muestra = 10;     # mm\n",
    "# Aumentos del expansor\n",
    "beta_expansor = diam_muestra/diam_haz;\n",
    "# Potencia pico\n",
    "Pot_pico = E_pulso * 1e-3 / (tau_pulso *1e-9);     # W emitidos del haz colimado\n",
    "# Potencia muestra \n",
    "# El haz es colimado, no vamos a considerar la atenuación por la distancia al cuadrado\n",
    "from numpy import exp\n",
    "Pot_muestra = Pot_pico * exp(-sigma_atten * alcance);    # W\n",
    "\n",
    "mancha_real = diam_haz + 2*np.tan(theta_L*1e-3 / beta_expansor)*alcance*1e5;     # cm"
   ]
  },
  {
   "cell_type": "markdown",
   "id": "7fc5a57f",
   "metadata": {},
   "source": [
    "### Calculo de la irradiancia en la muestra"
   ]
  },
  {
   "cell_type": "code",
   "execution_count": 33,
   "id": "dbf51647",
   "metadata": {},
   "outputs": [],
   "source": [
    "from numpy import pi\n",
    "Irr_muestra_teo = Pot_muestra / (pi * (diam_muestra*1e-1/2)**2);    # W/cm^2\n",
    "Irr_muestra = Pot_muestra / (pi * (mancha_real*1e-1/2)**2);      # W/cm^2"
   ]
  },
  {
   "cell_type": "markdown",
   "id": "b9d66e00",
   "metadata": {},
   "source": [
    "### Eficiencia raman para la calcita, se emplea como referencia"
   ]
  },
  {
   "cell_type": "code",
   "execution_count": 34,
   "id": "bf640339",
   "metadata": {},
   "outputs": [],
   "source": [
    "lamda = 1086;    # cm^-1\n",
    "eps_raman_Ca = 1e-8;\n",
    "lamda_raman_ca = 564.62; # nm\n",
    "# Irradiancia Raman\n",
    "Irr_Raman = Irr_muestra*eps_raman_Ca;    # W/cm^2"
   ]
  },
  {
   "cell_type": "markdown",
   "id": "19213888",
   "metadata": {},
   "source": [
    "La muestra se convierte en un emisor lambertiano que emite en π y su flujo debe llegar al cabezal colector que está a una distancia d. \n",
    "Convertimos la irradiancia en Radiancia (W/cm^2 str)."
   ]
  },
  {
   "cell_type": "code",
   "execution_count": 35,
   "id": "73fe3d90",
   "metadata": {},
   "outputs": [],
   "source": [
    "Rad_Raman = Irr_Raman/pi;   # W/cm^2 str"
   ]
  },
  {
   "cell_type": "markdown",
   "id": "8569c1c0",
   "metadata": {},
   "source": [
    "Esta superficie emisora es a todos los efectos puntual para el sistema de colección por lo que debemos calcular la intensidad luminosa."
   ]
  },
  {
   "cell_type": "code",
   "execution_count": 36,
   "id": "68c012bf",
   "metadata": {},
   "outputs": [],
   "source": [
    "I_emitida = Rad_Raman * (pi*(mancha_real*1e-1/2)**2);\n",
    "# Cálculo de la intensidad óptica       I = L * S"
   ]
  },
  {
   "cell_type": "markdown",
   "id": "9dc52906",
   "metadata": {},
   "source": [
    "Si supongo que se observa la fuente puntual en eje entonces: I=I0cos(i) ( ver optica instrumental pagina 83).\n",
    "La Irradiancia en la apertura de la óptica queda como:"
   ]
  },
  {
   "cell_type": "code",
   "execution_count": 37,
   "id": "eae996fe",
   "metadata": {},
   "outputs": [],
   "source": [
    "Irr_apertura_optica = I_emitida/(alcance*1e5)**2 * exp(-sigma_atten*alcance);         # W/cm^2"
   ]
  },
  {
   "cell_type": "markdown",
   "id": "209e60fc",
   "metadata": {},
   "source": [
    "La señal es recogida por el detector que esta a una distancia d."
   ]
  },
  {
   "cell_type": "code",
   "execution_count": 38,
   "id": "8e3eaf4b",
   "metadata": {},
   "outputs": [],
   "source": [
    "# Diametro de apertura óptica\n",
    "D_opt = 10; # cm\n",
    "# Transmitancia de la óptica\n",
    "tau_optica = 0.6;\n",
    "\n",
    "Flujo_coleccion = tau_optica * Irr_apertura_optica * pi * (D_opt/2)**2;      # W que llegan a la óptica"
   ]
  },
  {
   "cell_type": "markdown",
   "id": "5d289a9b",
   "metadata": {},
   "source": [
    "Nota: ahora suponemos que el sisetma de colección es límite por difracción y que la mancha de airy es más\n",
    "pequeña que el píxel\n",
    "\n",
    "### Datos del SPECTROMETRO (de la red de difracción)\n",
    "\n"
   ]
  },
  {
   "cell_type": "code",
   "execution_count": 39,
   "id": "a4105675",
   "metadata": {},
   "outputs": [],
   "source": [
    "dispersion = 13;     # nm/mm dispersion del espectrometro\n",
    "eficiencia = 0.5;     # spectrometer throughput\n",
    "\n",
    "# spectral_resolution_required = 6 , 8 cm^-1   ;          0.17 , 0.23 nm\n",
    "# spectral_dispersion_required = 12.6 , 17 nm/mm"
   ]
  },
  {
   "cell_type": "markdown",
   "id": "72cc4c2e",
   "metadata": {},
   "source": [
    "### Datos del DETECTOR"
   ]
  },
  {
   "cell_type": "code",
   "execution_count": 40,
   "id": "8375eb2d",
   "metadata": {},
   "outputs": [],
   "source": [
    "OCG = 4.5e-6;       # V/e-\n",
    "# Tamaño de pixel\n",
    "px = 0.015;            # mm \n",
    "# Números de pixels\n",
    "N_pixel_H = 2048;\n",
    "N_pixel_V = 2048;\n",
    "# Resolución\n",
    "disp_pix = px * dispersion;"
   ]
  },
  {
   "cell_type": "markdown",
   "id": "ca104fa5",
   "metadata": {},
   "source": [
    "El espectro tiene una anchura de 0.4, 0.5 nm, el cual es recogido en los siguientes pixeles."
   ]
  },
  {
   "cell_type": "code",
   "execution_count": 41,
   "id": "9644f80c",
   "metadata": {},
   "outputs": [],
   "source": [
    "bandwidth_Ca = 0.4;     # nm\n",
    "# ext = floor*(bandwidth_Ca/disp_pix);      # pixels\n",
    "ext = (bandwidth_Ca/disp_pix);      # pixels"
   ]
  },
  {
   "cell_type": "markdown",
   "id": "79fc5fae",
   "metadata": {},
   "source": [
    "### Detector data"
   ]
  },
  {
   "cell_type": "code",
   "execution_count": 42,
   "id": "cd34c13f",
   "metadata": {},
   "outputs": [],
   "source": [
    "# Velocidad de la luz\n",
    "c = 3*1e8;         # m/s\n",
    "h = 6.62*1e-34; # J*s\n",
    "# Eficiencia Cuántica\n",
    "QE = 0.6;\n",
    "# Full well capacity\n",
    "F_wc = 100*1e3;    # e-"
   ]
  },
  {
   "cell_type": "markdown",
   "id": "9ce9d528",
   "metadata": {},
   "source": [
    "Flujo radiante considerado a cada pixel de la señal Raman"
   ]
  },
  {
   "cell_type": "code",
   "execution_count": 43,
   "id": "40ae877f",
   "metadata": {},
   "outputs": [],
   "source": [
    "Flujo_px = Flujo_coleccion * eficiencia / round(ext);"
   ]
  },
  {
   "cell_type": "markdown",
   "id": "d6287f91",
   "metadata": {},
   "source": [
    "Energía Raman recogida por el detector:"
   ]
  },
  {
   "cell_type": "code",
   "execution_count": 44,
   "id": "71ca6a44",
   "metadata": {},
   "outputs": [],
   "source": [
    "Flujo_px_esp = Flujo_px / bandwidth_Ca;       # W/nm per pixel"
   ]
  },
  {
   "cell_type": "markdown",
   "id": "fd62ba0c",
   "metadata": {},
   "source": [
    "Calculamos la energía en el detector empleando $\\lambda_{Raman _ Ca}$ = 564.62 nm.\n",
    "No hace falta hacerlo espectralmente (lo dejamos para saber como hacerlo en otros casos), hemos estado considerándolo siempre de forma discreta:"
   ]
  },
  {
   "cell_type": "code",
   "execution_count": 45,
   "id": "fa211e0e",
   "metadata": {},
   "outputs": [],
   "source": [
    "#Cts_r(λ)\n",
    "def Cts_Raman ( lamda, Flujo_px_esp):\n",
    "    # global c, h, QE\n",
    "#     c = 3*1e8;      h=6.62e-34;\n",
    "    Cts_r =  Flujo_px_esp / (c * h) *lamda * QE;\n",
    "    return Cts_r\n",
    "\n",
    "Cts_r = Cts_Raman ( lamda_raman_ca*1e-9, Flujo_px_esp);\n",
    "# print(Cts_r)"
   ]
  },
  {
   "cell_type": "markdown",
   "id": "f7d43387",
   "metadata": {},
   "source": [
    "Los fotoelectrones de la señal Raman son calculados en el rango espectral de la señal:"
   ]
  },
  {
   "cell_type": "code",
   "execution_count": 46,
   "id": "60ac45b9",
   "metadata": {},
   "outputs": [],
   "source": [
    "from sympy import integrate       # , init_printing\n",
    "from sympy.abc import lamda\n",
    "fun = Flujo_px_esp*1e9 / (c * h) *lamda * QE;\n",
    "lamda_min = (lamda_raman_ca-bandwidth_Ca/2)*1e-9;\n",
    "lamda_max = (lamda_raman_ca+bandwidth_Ca/2)*1e-9;\n",
    "Cts_T = integrate(fun, (lamda, lamda_min, lamda_max));\n",
    "\n",
    "# print(Cts_T)"
   ]
  },
  {
   "cell_type": "markdown",
   "id": "0ffd40ef",
   "metadata": {},
   "source": [
    "El número de fotoelectrones depende del tiempo de integración.\n",
    "#### La energía por pulso, en cambio, no depende del tiempo."
   ]
  },
  {
   "cell_type": "code",
   "execution_count": 47,
   "id": "e86c7c13",
   "metadata": {},
   "outputs": [],
   "source": [
    "# Signal(t_i) = Cts_T     para todo t_i\n",
    "# Fotoelectrones por segundo\n",
    "# global Signal\n",
    "Signal = Cts_T;"
   ]
  },
  {
   "cell_type": "markdown",
   "id": "33e2f994",
   "metadata": {},
   "source": [
    "Transformamos los fotoelectrones detectados a Voltios."
   ]
  },
  {
   "cell_type": "code",
   "execution_count": 48,
   "id": "6dd3410d",
   "metadata": {},
   "outputs": [],
   "source": [
    "# Change to V\n",
    "def X(t):\n",
    "    # global Signal, OCG\n",
    "    x = Signal*OCG;       #V\n",
    "    return x\n",
    "x = X(1);        # V"
   ]
  },
  {
   "cell_type": "markdown",
   "id": "f4653e7e",
   "metadata": {},
   "source": [
    "## Ruido estimado\n",
    "### a) Dark Current noise\n"
   ]
  },
  {
   "cell_type": "code",
   "execution_count": 49,
   "id": "e7f1880c",
   "metadata": {},
   "outputs": [],
   "source": [
    "# signal at T = 20ºC == 293 K\n",
    "#global s_dark\n",
    "s_dark = 100;               # e-/pixel/s\n",
    "from numpy import sqrt\n",
    "def N_dark(T, t_i):\n",
    "    # global s_dark\n",
    "    # n = sqrt(s_dark * t_i * (1.4*1e6 * T**3 *exp(-9080/T)));\n",
    "    # n = sqrt(s_dark * t_i * np.multiply(1.4*1e6 * T**3,exp(-9080/T)));\n",
    "    n = sqrt(s_dark * np.multiply(t_i, np.multiply(1.4*1e6 * T**3,exp(-9080/T))));\n",
    "    return n\n",
    "n_dark = N_dark(293, 1); "
   ]
  },
  {
   "cell_type": "markdown",
   "id": "2852e146",
   "metadata": {},
   "source": [
    "### b) Read-out noise"
   ]
  },
  {
   "cell_type": "code",
   "execution_count": 50,
   "id": "fd7a1fc7",
   "metadata": {},
   "outputs": [],
   "source": [
    "# Read-out noise\n",
    "global N_r\n",
    "N_r = 7;     # e-"
   ]
  },
  {
   "cell_type": "markdown",
   "id": "475c0b03",
   "metadata": {},
   "source": [
    "### c) Quantification noise"
   ]
  },
  {
   "cell_type": "code",
   "execution_count": 51,
   "id": "744a38d0",
   "metadata": {},
   "outputs": [],
   "source": [
    "#global N_q\n",
    "# bit analogic converter\n",
    "n = 12;\n",
    "# Nivel de digitalización para una ganancia normal\n",
    "DN = F_wc / 2**n;\n",
    "N_q = DN / sqrt(12);     # e-"
   ]
  },
  {
   "cell_type": "markdown",
   "id": "a5526c4b",
   "metadata": {},
   "source": [
    "### d) Photonic noise \n",
    "\n",
    "Señal Raman:"
   ]
  },
  {
   "cell_type": "code",
   "execution_count": 52,
   "id": "81590b3c",
   "metadata": {},
   "outputs": [],
   "source": [
    "# Photonic noise\n",
    "def N_f_R(t_i):\n",
    "    # global Signal\n",
    "    n = sqrt(np.double(Signal));\n",
    "    return n\n",
    "N_f_Raman = N_f_R(1);"
   ]
  },
  {
   "cell_type": "markdown",
   "id": "a90a30f9",
   "metadata": {},
   "source": [
    "## Ruido total (desviación estándar)\n",
    "\n",
    "Ruido en función de la temperatura y el tiempo de integración."
   ]
  },
  {
   "cell_type": "code",
   "execution_count": 54,
   "id": "7dfe264a",
   "metadata": {},
   "outputs": [
    {
     "data": {
      "image/png": "[encoded data removed]",
      "text/plain": [
       "<Figure size 640x480 with 1 Axes>"
      ]
     },
     "metadata": {},
     "output_type": "display_data"
    }
   ],
   "source": [
    "from numpy import linspace\n",
    "T = linspace(173,330,158);    # K\n",
    "# Calculamos la variación del ruido total con la temperatura para un intervalo 173 K a 330 K\n",
    "def N_T_Total (T, t_i):\n",
    "    # global N_q, N_r\n",
    "    n = sqrt(N_q**2 + N_r**2 + N_f_R(t_i)**2+N_dark(T, t_i));\n",
    "    return n\n",
    "N_Total = N_T_Total(T,1);\n",
    "# ndark = N_dark(T,1);\n",
    "\n",
    "# Representamos el ruido total\n",
    "import matplotlib.pyplot as plt\n",
    "# figure(1)\n",
    "plt.plot(T, N_Total)\n",
    "plt.title('Total Noise')\n",
    "plt.xlim(min(T)-1, max(T)+1)\n",
    "plt.ylim(0, 3000)\n",
    "plt.grid(visible=1)\n",
    "plt.show()"
   ]
  },
  {
   "cell_type": "markdown",
   "id": "b7dd893d",
   "metadata": {},
   "source": [
    "Niveles de ruido esperados para la temperatura de operación T = 233 K"
   ]
  },
  {
   "cell_type": "code",
   "execution_count": 55,
   "id": "29ead5dc",
   "metadata": {},
   "outputs": [],
   "source": [
    "T_op1 = 233;       t_in = [1.5, 1, 0.5, 1.25*1e-3];\n",
    "N_Total_233K = N_T_Total(T_op1, t_in);"
   ]
  },
  {
   "cell_type": "markdown",
   "id": "dad150a4",
   "metadata": {},
   "source": [
    "Niveles de ruido esperados para la temperatura de operación T = 263 K"
   ]
  },
  {
   "cell_type": "code",
   "execution_count": 56,
   "id": "bbcb83cf",
   "metadata": {},
   "outputs": [],
   "source": [
    "T_op2 = 263;       \n",
    "N_Total_263K = N_T_Total(T_op2, t_in);\n"
   ]
  },
  {
   "cell_type": "markdown",
   "id": "6ebc67ab",
   "metadata": {},
   "source": [
    "## Evaluación de SNR para un cierto nivel de señal (Detección Continua)"
   ]
  },
  {
   "cell_type": "code",
   "execution_count": 57,
   "id": "44c8518c",
   "metadata": {},
   "outputs": [],
   "source": [
    "T = linspace(193, 293, 101);       \n",
    "t_i1 = 0.1;     t_i2 = 0.05;    t_i3 = 0.02;    t_i4 = 0.01;\n",
    "# SNR\n",
    "def SNR_REAL(T, t_i):\n",
    "    global Signal \n",
    "    s = Signal / N_T_Total(T, t_i);\n",
    "    return s\n",
    "SNR_real_1 = SNR_REAL(T, t_i1);\n",
    "SNR_real_2 = SNR_REAL(T, t_i2);\n",
    "SNR_real_3 = SNR_REAL(T, t_i3);\n",
    "SNR_real_4 = SNR_REAL(T, t_i4);"
   ]
  },
  {
   "cell_type": "code",
   "execution_count": 58,
   "id": "57a01622",
   "metadata": {},
   "outputs": [
    {
     "data": {
      "image/png": "[encoded data removed]",
      "text/plain": [
       "<Figure size 640x480 with 1 Axes>"
      ]
     },
     "metadata": {},
     "output_type": "display_data"
    }
   ],
   "source": [
    "plt.plot(T, SNR_real_1)\n",
    "plt.plot(T, SNR_real_2)\n",
    "plt.plot(T, SNR_real_3)\n",
    "plt.plot(T, SNR_real_4)\n",
    "plt.xlabel(' T (K)')\n",
    "plt.ylabel(' SNR ')\n",
    "plt.ylim(2397.575, 2397.581)\n",
    "# plt.legend('SNR t=0.1', 'SNR t=0.05', 'SNR t=0.02', 'SNR t=0.01', 'Location', 'southwest')\n",
    "# plt.legend(['SNR t=0.1', 'SNR t=0.05', 'SNR t=0.02', 'SNR t=0.01'], [SNR_real_1, SNR_real_2, SNR_real_3, SNR_real_4])\n",
    "plt.grid(visible=1)\n",
    "plt.show()\n"
   ]
  },
  {
   "cell_type": "markdown",
   "id": "ba600b1f",
   "metadata": {},
   "source": [
    "## Evaluación de SNR para un cierto nivel (Condición promedio)\n",
    "\n",
    "Sea N el número de imágenes tomadas (acumulaciones)."
   ]
  },
  {
   "cell_type": "code",
   "execution_count": 60,
   "id": "47656db3",
   "metadata": {},
   "outputs": [],
   "source": [
    "NN = 20;   # Número de pulsos\n",
    "# t_i = 0.1;\n",
    "tau_ida_vuelta = 2*alcance*1e3 / c;\n",
    "# SNR Average Condition\n",
    "def SNR_REAL_A(T, t_i, N):\n",
    "    # global Signal\n",
    "    s = Signal * N / sqrt(N_T_Total(T, t_i)**2.*N);\n",
    "    return s\n",
    "SNR_real_A1 = SNR_REAL_A(T, t_i1, NN);\n",
    "SNR_real_A2 = SNR_REAL_A(T, t_i2, NN);\n",
    "SNR_real_A3 = SNR_REAL_A(T, t_i3, NN);\n",
    "SNR_real_A4 = SNR_REAL_A(T, t_i4, NN);"
   ]
  },
  {
   "cell_type": "code",
   "execution_count": 61,
   "id": "c8c50c7d",
   "metadata": {},
   "outputs": [
    {
     "data": {
      "image/png": "[encoded data removed]",
      "text/plain": [
       "<Figure size 640x480 with 1 Axes>"
      ]
     },
     "metadata": {},
     "output_type": "display_data"
    }
   ],
   "source": [
    "plt.plot(T, SNR_real_A1)\n",
    "plt.plot(T, SNR_real_A2)\n",
    "plt.plot(T, SNR_real_A3)\n",
    "plt.plot(T, SNR_real_A4)\n",
    "plt.xlabel(' T (K)')\n",
    "plt.ylabel(' SNR Average Condition ')\n",
    "plt.ylim([10722.26, 10722.32])\n",
    "# plt.legend('SNR_A t=0.1', 'SNR_A t=0.05', 'SNR_A t=0.02', 'SNR_A t=0.01', 'Location', 'southwest')\n",
    "plt.grid(visible=1)\n",
    "plt.show()"
   ]
  },
  {
   "cell_type": "code",
   "execution_count": null,
   "id": "ce4737cd",
   "metadata": {},
   "outputs": [],
   "source": []
  },
  {
   "cell_type": "code",
   "execution_count": null,
   "id": "72c8ca52",
   "metadata": {},
   "outputs": [],
   "source": []
  }
 ],
 "metadata": {
  "kernelspec": {
   "display_name": "Python 3 (ipykernel)",
   "language": "python",
   "name": "python3"
  },
  "language_info": {
   "codemirror_mode": {
    "name": "ipython",
    "version": 3
   },
   "file_extension": ".py",
   "mimetype": "text/x-python",
   "name": "python",
   "nbconvert_exporter": "python",
   "pygments_lexer": "ipython3",
   "version": "3.9.13"
  }
 },
 "nbformat": 4,
 "nbformat_minor": 5
}
